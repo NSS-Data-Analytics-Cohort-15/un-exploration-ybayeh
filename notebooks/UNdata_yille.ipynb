{
 "cells": [
  {
   "cell_type": "markdown",
   "id": "5d247c4f-e3ba-4e99-abe0-7db4cf054747",
   "metadata": {},
   "source": [
    "# UN Data Analysis\n",
    "### UN GDP Per Capita "
   ]
  },
  {
   "cell_type": "code",
   "execution_count": 1,
   "id": "0cf8c6e8-49f9-44a6-a4dd-38ac6e5a6017",
   "metadata": {},
   "outputs": [],
   "source": [
    "#Q3. Import the required packages with their customary aliases as follows:"
   ]
  },
  {
   "cell_type": "code",
   "execution_count": 69,
   "id": "57e3fbfb-ab27-4f4d-bf91-734e6cc5c345",
   "metadata": {},
   "outputs": [],
   "source": [
    "import pandas as pd\n",
    "import numpy as np\n",
    "import matplotlib.pyplot as plt\n",
    "import seaborn as sns"
   ]
  },
  {
   "cell_type": "code",
   "execution_count": 3,
   "id": "39eeb597-bf03-4705-a4c4-ea2faed5fbd7",
   "metadata": {},
   "outputs": [],
   "source": [
    "#Q4. Using the pandas `read_csv()` method, read the GDP dataset into your notebook as a DataFrame called `gdp_df`. \n",
    "#Take a look at the first few and last few rows to familiarize yourself with what is contained in this dataset."
   ]
  },
  {
   "cell_type": "code",
   "execution_count": 4,
   "id": "d4fb894c-a0b5-413a-97f1-eff3a842be0f",
   "metadata": {},
   "outputs": [],
   "source": [
    "gdp_df=pd.read_csv('../data/gdp_percapita.csv')"
   ]
  },
  {
   "cell_type": "code",
   "execution_count": 5,
   "id": "dcee0b9c-98fb-4f00-843f-ff723c24e3b4",
   "metadata": {},
   "outputs": [],
   "source": [
    "#Q5. How many rows and columns are in `gdp_df`? What are the data types of each column?"
   ]
  },
  {
   "cell_type": "markdown",
   "id": "27be086d-a63c-47da-811c-df4e6f2456c5",
   "metadata": {},
   "source": [
    "##### 8219 rows and 4 columns"
   ]
  },
  {
   "cell_type": "code",
   "execution_count": 20,
   "id": "fca39cdf-2d46-4890-bd4b-287722270605",
   "metadata": {},
   "outputs": [
    {
     "data": {
      "text/plain": [
       "Country            object\n",
       "Year                int64\n",
       "GDP_Per_Capita    float64\n",
       "dtype: object"
      ]
     },
     "execution_count": 20,
     "metadata": {},
     "output_type": "execute_result"
    }
   ],
   "source": [
    "gdp_df.dtypes"
   ]
  },
  {
   "cell_type": "code",
   "execution_count": 7,
   "id": "65b34481-6d4d-471c-a6cd-97967f968a38",
   "metadata": {},
   "outputs": [],
   "source": [
    "#Q6.Drop the `Value Footnotes` column and rename the remaining three to 'Country', 'Year', and 'GDP_Per_Capita'."
   ]
  },
  {
   "cell_type": "code",
   "execution_count": 8,
   "id": "a445c708-c127-44f7-aade-1034d9d6a3b3",
   "metadata": {},
   "outputs": [],
   "source": [
    "#Dropping Value Footnotes\n",
    "gdp_df.drop('Value Footnotes', axis=1, inplace=True)"
   ]
  },
  {
   "cell_type": "code",
   "execution_count": 9,
   "id": "28daa1b3-8403-439c-8220-c9a95b0e6d93",
   "metadata": {},
   "outputs": [
    {
     "data": {
      "text/html": [
       "<div>\n",
       "<style scoped>\n",
       "    .dataframe tbody tr th:only-of-type {\n",
       "        vertical-align: middle;\n",
       "    }\n",
       "\n",
       "    .dataframe tbody tr th {\n",
       "        vertical-align: top;\n",
       "    }\n",
       "\n",
       "    .dataframe thead th {\n",
       "        text-align: right;\n",
       "    }\n",
       "</style>\n",
       "<table border=\"1\" class=\"dataframe\">\n",
       "  <thead>\n",
       "    <tr style=\"text-align: right;\">\n",
       "      <th></th>\n",
       "      <th>Country</th>\n",
       "      <th>Year</th>\n",
       "      <th>GDP_Per_Capita</th>\n",
       "    </tr>\n",
       "  </thead>\n",
       "  <tbody>\n",
       "    <tr>\n",
       "      <th>0</th>\n",
       "      <td>Afghanistan</td>\n",
       "      <td>2023</td>\n",
       "      <td>1992.424394</td>\n",
       "    </tr>\n",
       "    <tr>\n",
       "      <th>1</th>\n",
       "      <td>Afghanistan</td>\n",
       "      <td>2022</td>\n",
       "      <td>1981.710168</td>\n",
       "    </tr>\n",
       "    <tr>\n",
       "      <th>2</th>\n",
       "      <td>Afghanistan</td>\n",
       "      <td>2021</td>\n",
       "      <td>2144.166570</td>\n",
       "    </tr>\n",
       "    <tr>\n",
       "      <th>3</th>\n",
       "      <td>Afghanistan</td>\n",
       "      <td>2020</td>\n",
       "      <td>2769.685745</td>\n",
       "    </tr>\n",
       "    <tr>\n",
       "      <th>4</th>\n",
       "      <td>Afghanistan</td>\n",
       "      <td>2019</td>\n",
       "      <td>2927.245144</td>\n",
       "    </tr>\n",
       "    <tr>\n",
       "      <th>...</th>\n",
       "      <td>...</td>\n",
       "      <td>...</td>\n",
       "      <td>...</td>\n",
       "    </tr>\n",
       "    <tr>\n",
       "      <th>8214</th>\n",
       "      <td>Zimbabwe</td>\n",
       "      <td>1994</td>\n",
       "      <td>3965.730986</td>\n",
       "    </tr>\n",
       "    <tr>\n",
       "      <th>8215</th>\n",
       "      <td>Zimbabwe</td>\n",
       "      <td>1993</td>\n",
       "      <td>3634.750494</td>\n",
       "    </tr>\n",
       "    <tr>\n",
       "      <th>8216</th>\n",
       "      <td>Zimbabwe</td>\n",
       "      <td>1992</td>\n",
       "      <td>3649.891947</td>\n",
       "    </tr>\n",
       "    <tr>\n",
       "      <th>8217</th>\n",
       "      <td>Zimbabwe</td>\n",
       "      <td>1991</td>\n",
       "      <td>4126.405247</td>\n",
       "    </tr>\n",
       "    <tr>\n",
       "      <th>8218</th>\n",
       "      <td>Zimbabwe</td>\n",
       "      <td>1990</td>\n",
       "      <td>4013.299059</td>\n",
       "    </tr>\n",
       "  </tbody>\n",
       "</table>\n",
       "<p>8219 rows × 3 columns</p>\n",
       "</div>"
      ],
      "text/plain": [
       "          Country  Year  GDP_Per_Capita\n",
       "0     Afghanistan  2023     1992.424394\n",
       "1     Afghanistan  2022     1981.710168\n",
       "2     Afghanistan  2021     2144.166570\n",
       "3     Afghanistan  2020     2769.685745\n",
       "4     Afghanistan  2019     2927.245144\n",
       "...           ...   ...             ...\n",
       "8214     Zimbabwe  1994     3965.730986\n",
       "8215     Zimbabwe  1993     3634.750494\n",
       "8216     Zimbabwe  1992     3649.891947\n",
       "8217     Zimbabwe  1991     4126.405247\n",
       "8218     Zimbabwe  1990     4013.299059\n",
       "\n",
       "[8219 rows x 3 columns]"
      ]
     },
     "execution_count": 9,
     "metadata": {},
     "output_type": "execute_result"
    }
   ],
   "source": [
    "#rename the three columns to 'Country', 'Year', and 'GDP_Per_Capita'\n",
    "gdp_df=gdp_df.rename(columns={'Country or Area': 'Country', 'Year': 'Year', 'Value': 'GDP_Per_Capita'})\n",
    "gdp_df"
   ]
  },
  {
   "cell_type": "code",
   "execution_count": 10,
   "id": "2cfa819c-f276-49dc-b798-d07b04b513fa",
   "metadata": {},
   "outputs": [],
   "source": [
    "#Q7. How many countries have data for all years? \n",
    "#Which countries are missing many years of data? Look at the number of observations per year. \n",
    "#What do you notice? "
   ]
  },
  {
   "cell_type": "code",
   "execution_count": 21,
   "id": "6e26a648-6045-4011-b977-1bc92a1046ae",
   "metadata": {},
   "outputs": [
    {
     "data": {
      "text/plain": [
       "range(1990, 2023)"
      ]
     },
     "execution_count": 21,
     "metadata": {},
     "output_type": "execute_result"
    }
   ],
   "source": [
    "#the range of years\n",
    "range(gdp_df['Year'].min(), gdp_df['Year'].max())"
   ]
  },
  {
   "cell_type": "code",
   "execution_count": 12,
   "id": "7989e99b-73a0-452c-9746-01b6b3aedb36",
   "metadata": {},
   "outputs": [],
   "source": [
    "all_years = gdp_df['Year'].unique()"
   ]
  },
  {
   "cell_type": "code",
   "execution_count": 13,
   "id": "4b3c3051-e0da-429b-97bd-fdc539c10570",
   "metadata": {},
   "outputs": [],
   "source": [
    "country_year_counts = gdp_df.groupby('Country')['Year'].nunique()"
   ]
  },
  {
   "cell_type": "code",
   "execution_count": 14,
   "id": "9a7bcb3d-a155-45be-9518-523b036c8cec",
   "metadata": {},
   "outputs": [
    {
     "data": {
      "text/plain": [
       "Country\n",
       "Afghanistan                    24\n",
       "Africa Eastern and Southern    34\n",
       "Africa Western and Central     34\n",
       "Albania                        34\n",
       "Algeria                        34\n",
       "                               ..\n",
       "Virgin Islands                 21\n",
       "West Bank and Gaza             30\n",
       "World                          34\n",
       "Zambia                         34\n",
       "Zimbabwe                       34\n",
       "Name: Year, Length: 247, dtype: int64"
      ]
     },
     "execution_count": 14,
     "metadata": {},
     "output_type": "execute_result"
    }
   ],
   "source": [
    "country_year_counts"
   ]
  },
  {
   "cell_type": "code",
   "execution_count": 15,
   "id": "8225a240-32ed-4bfc-a854-de110353cd89",
   "metadata": {},
   "outputs": [],
   "source": [
    "number_of_all_years = len(all_years)"
   ]
  },
  {
   "cell_type": "code",
   "execution_count": 16,
   "id": "7146013b-eb79-4256-95c0-6b9fdd046a34",
   "metadata": {},
   "outputs": [],
   "source": [
    "#determine countries with data for all years\n",
    "countries_with_all_years = country_year_counts[country_year_counts == number_of_all_years]"
   ]
  },
  {
   "cell_type": "code",
   "execution_count": 17,
   "id": "eb07fade-6e64-4207-abe7-6dab405620dc",
   "metadata": {},
   "outputs": [
    {
     "data": {
      "text/plain": [
       "228"
      ]
     },
     "execution_count": 17,
     "metadata": {},
     "output_type": "execute_result"
    }
   ],
   "source": [
    "# Number of countries that have data for all years\n",
    "number_of_countries = len(countries_with_all_years)\n",
    "number_of_countries"
   ]
  },
  {
   "cell_type": "code",
   "execution_count": 65,
   "id": "0ff72340-2d02-43d5-a243-99db8085b6ec",
   "metadata": {},
   "outputs": [
    {
     "data": {
      "text/plain": [
       "19"
      ]
     },
     "execution_count": 65,
     "metadata": {},
     "output_type": "execute_result"
    }
   ],
   "source": [
    "#Number of countries that do not have data for all years\n",
    "len(country_year_counts[country_year_counts < number_of_all_years])"
   ]
  },
  {
   "cell_type": "code",
   "execution_count": 18,
   "id": "e5cd8e4f-99a6-4f08-aac5-09099681e522",
   "metadata": {},
   "outputs": [],
   "source": [
    "#Q8 In this question, you're going to create some plots to show the distribution of GDP per capita for the year 2020. \n",
    "#Go to the Python Graph Gallery (https://www.python-graph-gallery.com/) and look at the different types of plots under the Distribution section. \n",
    "#Create a histogram, a density plot, a boxplot, and a violin plot. What do you notice when you look at these plots? \n",
    "#How do the plots compare and what information can you get out of one type that you can't necessarily get out of the others?"
   ]
  },
  {
   "cell_type": "code",
   "execution_count": 72,
   "id": "c4b9e364-7963-4059-9172-0331866a1587",
   "metadata": {},
   "outputs": [],
   "source": [
    "#plotting histogram for the distribution of GDP per capita in the year 2020\n",
    "gdp_2020 = gdp_df[gdp_df['Year']==2020]"
   ]
  },
  {
   "cell_type": "code",
   "execution_count": 96,
   "id": "6a2c21f6-e6b0-44f1-aaf7-284bfb4d2563",
   "metadata": {},
   "outputs": [
    {
     "data": {
      "text/plain": [
       "Text(0, 0.5, 'Frequency')"
      ]
     },
     "execution_count": 96,
     "metadata": {},
     "output_type": "execute_result"
    },
    {
     "data": {
      "image/png": "[encoded data removed]",
      "text/plain": [
       "<Figure size 640x480 with 1 Axes>"
      ]
     },
     "metadata": {},
     "output_type": "display_data"
    }
   ],
   "source": [
    "plt.hist(gdp_2020['GDP_Per_Capita'], bins=30, edgecolor='black')\n",
    "plt.title('Distribution of GDP Per Capita (2020)')\n",
    "plt.xlabel('GDP Per Capita')\n",
    "plt.ylabel('Frequency')"
   ]
  },
  {
   "cell_type": "code",
   "execution_count": 95,
   "id": "2b4728f8-b413-4ab5-a7ba-92b34c817ba4",
   "metadata": {},
   "outputs": [
    {
     "data": {
      "image/png": "[encoded data removed]",
      "text/plain": [
       "<Figure size 640x480 with 1 Axes>"
      ]
     },
     "metadata": {},
     "output_type": "display_data"
    }
   ],
   "source": [
    "sns.kdeplot(gdp_2020['GDP_Per_Capita'], fill=True)\n",
    "plt.title('Density plot of GDP Per Capita (2020)')\n",
    "plt.xlabel('GDP Per Capita')\n",
    "plt.ylabel('Density')\n",
    "plt.grid(True)"
   ]
  },
  {
   "cell_type": "code",
   "execution_count": 19,
   "id": "21c6ad4a-e88d-436c-96bf-5ae2147cca39",
   "metadata": {},
   "outputs": [
    {
     "data": {
      "text/plain": [
       "15309.24"
      ]
     },
     "execution_count": 19,
     "metadata": {},
     "output_type": "execute_result"
    }
   ],
   "source": [
    "#Q9  What was the median GDP per capita value in 2020?\n",
    "gdp_df_2020 = gdp_df[gdp_df['Year'] == 2020]\n",
    "median_gdp_df_2020 = gdp_df_2020['GDP_Per_Capita'].median()\n",
    "round(median_gdp_df_2020, 2)"
   ]
  },
  {
   "cell_type": "code",
   "execution_count": null,
   "id": "0afad7b3-e530-452c-b258-64e31826d69e",
   "metadata": {},
   "outputs": [],
   "source": []
  }
 ],
 "metadata": {
  "kernelspec": {
   "display_name": "Python [conda env:base] *",
   "language": "python",
   "name": "conda-base-py"
  },
  "language_info": {
   "codemirror_mode": {
    "name": "ipython",
    "version": 3
   },
   "file_extension": ".py",
   "mimetype": "text/x-python",
   "name": "python",
   "nbconvert_exporter": "python",
   "pygments_lexer": "ipython3",
   "version": "3.13.5"
  }
 },
 "nbformat": 4,
 "nbformat_minor": 5
}
